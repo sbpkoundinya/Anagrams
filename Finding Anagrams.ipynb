{
 "cells": [
  {
   "cell_type": "code",
   "execution_count": 36,
   "metadata": {},
   "outputs": [
    {
     "name": "stdout",
     "output_type": "stream",
     "text": [
      "Enter a word: alter\n"
     ]
    },
    {
     "data": {
      "text/plain": [
       "['alert', 'artel', 'later', 'ratel', 'taler', 'telar']"
      ]
     },
     "execution_count": 36,
     "metadata": {},
     "output_type": "execute_result"
    }
   ],
   "source": [
    "# Script to find anagrams\n",
    "\n",
    "# Get sorted list of unique words from the input data file\n",
    "wordunique = sorted(list(set([word.strip().lower() for word in open('anagrams.csv', 'r')])))\n",
    "\n",
    "# Define function which compares the given word with all words in the sorted file to check for anagrams\n",
    "def anagram(word):\n",
    "    return [w for w in wordunique if sorted(w) == sorted(word) and w != word]\n",
    "\n",
    "anagram(raw_input(\"Enter a word: \"))"
   ]
  },
  {
   "cell_type": "code",
   "execution_count": null,
   "metadata": {},
   "outputs": [],
   "source": [
    "# Get anagrams for all words\n",
    "anagrams_all = {word: anagram(word) for word in wordunique if len(anagram(word)) > 1}"
   ]
  }
 ],
 "metadata": {
  "kernelspec": {
   "display_name": "Python 2",
   "language": "python",
   "name": "python2"
  }
 },
 "nbformat": 4,
 "nbformat_minor": 2
}
